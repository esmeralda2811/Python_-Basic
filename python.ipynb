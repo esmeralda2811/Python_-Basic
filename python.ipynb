{
  "nbformat": 4,
  "nbformat_minor": 0,
  "metadata": {
    "colab": {
      "provenance": [],
      "authorship_tag": "ABX9TyP5PxQ5dSZJuAeySYs01+IE",
      "include_colab_link": true
    },
    "kernelspec": {
      "name": "python3",
      "display_name": "Python 3"
    },
    "language_info": {
      "name": "python"
    }
  },
  "cells": [
    {
      "cell_type": "markdown",
      "metadata": {
        "id": "view-in-github",
        "colab_type": "text"
      },
      "source": [
        "<a href=\"https://colab.research.google.com/github/esmeralda2811/Python_-Basic/blob/main/python.ipynb\" target=\"_parent\"><img src=\"https://colab.research.google.com/assets/colab-badge.svg\" alt=\"Open In Colab\"/></a>"
      ]
    },
    {
      "cell_type": "markdown",
      "source": [
        "Contexto:\n",
        "Uma escola está promovendo uma campanha de incentivo à leitura, em que cada estudante recebe pontos ao concluir livros. Esses pontos podem ser trocados por diferentes premios da escola. As categorias de livros têm valores de pontos diferentes:\n",
        "Livro de ficção: 10 pontos\n",
        "Livro de não-ficção: 8 pontos\n",
        "Livro infantil: 6 pontos\n",
        "Rodrigo leu um livro de cada categoria. Agora ele quer saber quantos pontos acumulou com sua leitura.\n",
        "Nosso objetivo é criar um programa em Python que:\n",
        "Armazene a pontuação de cada categoria de livro em uma variável.\n",
        "Calcule o total de pontos acumulados por Rodrigo.\n",
        "Mostre na tela o total de pontos acumulados por Rodrigo."
      ],
      "metadata": {
        "id": "NrisRQHv5xj3"
      }
    },
    {
      "cell_type": "code",
      "source": [
        "ficcao = 10\n",
        "nficcao = 8\n",
        "infantil =6\n",
        "\n",
        "livros_lidos = 3;\n",
        "\n",
        "pontos = (ficcao + nficcao + infantil)\n",
        "\n",
        "pontos_totais = (ficcao*3 + nficcao*3 + infantil*3)\n",
        "\n",
        "print(f\"A soma dos pontos de Rodrigo, após três dias é {pontos_totais}\")\n",
        "\n",
        "print(f\"A soma dos pontos de Rodrigo é {pontos}\")\n",
        "\n",
        "print(f\"Total de livros lidos por Rodrigo é {livros_lidos}\")"
      ],
      "metadata": {
        "id": "xNN4OH8554K3",
        "outputId": "6fbd6fd5-d285-46cb-9548-14a9f83d76ec",
        "colab": {
          "base_uri": "https://localhost:8080/"
        }
      },
      "execution_count": null,
      "outputs": [
        {
          "output_type": "stream",
          "name": "stdout",
          "text": [
            "A soma dos pontos de Rodrigo, após três dias é 72\n",
            "A soma dos pontos de Rodrigo é 24\n",
            "Total de livros lidos por Rodrigo é 3\n"
          ]
        }
      ]
    },
    {
      "cell_type": "code",
      "source": [
        "print(\"O tonhão vive no youtube ou jogando\")"
      ],
      "metadata": {
        "id": "Xp9Pn_uWkq7i",
        "outputId": "d16fd833-b2d9-430f-e65a-89c84f1df96a",
        "colab": {
          "base_uri": "https://localhost:8080/"
        }
      },
      "execution_count": 2,
      "outputs": [
        {
          "output_type": "stream",
          "name": "stdout",
          "text": [
            "O tonhão vive no youtube ou jogando\n"
          ]
        }
      ]
    },
    {
      "cell_type": "code",
      "source": [
        "ano = \"Nascimeto do Alem\""
      ],
      "metadata": {
        "id": "FgPcRwXpnOvS"
      },
      "execution_count": 4,
      "outputs": []
    },
    {
      "cell_type": "code",
      "source": [
        "print(ano,\"O Athletico fou robando ontem na area corinthias\")"
      ],
      "metadata": {
        "id": "XXEaScNnn01W",
        "outputId": "e89657a6-9970-478e-c793-9944fa116415",
        "colab": {
          "base_uri": "https://localhost:8080/"
        }
      },
      "execution_count": 5,
      "outputs": [
        {
          "output_type": "stream",
          "name": "stdout",
          "text": [
            "Nascimeto do Alem O Athletico fou robando ontem na area corinthias\n"
          ]
        }
      ]
    },
    {
      "cell_type": "code",
      "source": [
        "print(f\"(ano) Competição de Phyton\")"
      ],
      "metadata": {
        "id": "43JybeGAogv4",
        "outputId": "a3c6a797-643c-4ca3-e0f4-77109e4914e5",
        "colab": {
          "base_uri": "https://localhost:8080/"
        }
      },
      "execution_count": 10,
      "outputs": [
        {
          "output_type": "stream",
          "name": "stdout",
          "text": [
            "(ano) Competição de Phyton\n"
          ]
        }
      ]
    }
  ]
}